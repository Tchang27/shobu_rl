{
 "cells": [
  {
   "cell_type": "code",
   "execution_count": null,
   "id": "ed791264",
   "metadata": {},
   "outputs": [],
   "source": [
    "%load_ext autoreload\n",
    "%autoreload 2"
   ]
  },
  {
   "cell_type": "code",
   "execution_count": null,
   "id": "65580479",
   "metadata": {},
   "outputs": [],
   "source": [
    "from rl_utils import ReplayMemory, seed\n",
    "import numpy as np\n",
    "import torch\n",
    "import os"
   ]
  },
  {
   "cell_type": "code",
   "execution_count": null,
   "id": "35a3723f",
   "metadata": {},
   "outputs": [],
   "source": [
    "seed()\n",
    "device = torch.device(\n",
    "    \"cuda\" if torch.cuda.is_available() else\n",
    "    \"cpu\"\n",
    ")\n",
    "os.environ['CUDA_LAUNCH_BLOCKING'] = \"1\"\n",
    "torch.autograd.set_detect_anomaly(True)"
   ]
  },
  {
   "cell_type": "code",
   "execution_count": null,
   "id": "46ef2145",
   "metadata": {},
   "outputs": [],
   "source": [
    "from agent import RandomAgent, MCTSAgent, RLAgent\n",
    "\n",
    "'''\n",
    "TODO: \n",
    "MCTSAgent(\"mcts_checkpoints_696/mcts_checkpoint_12000_start.pth\"), # ablation: no random positions\n",
    "MCTSAgent(\"mcts_checkpoints_696/mcts_checkpoint_16000_start.pth\"), # ablation: no random positions\n",
    "MCTSAgent(\"mcts_checkpoints_696/mcts_checkpoint_32000_explore_random.pth\"), # warm annealed restart\n",
    "MCTSAgent(\"mcts_checkpoints_696/mcts_checkpoint_36000_explore_random.pth\"), # warm annealed restart\n",
    "MCTSAgent(\"mcts_checkpoints_696/mcts_checkpoint_40000_explore_random.pth\"), # warm annealed restart\n",
    "MCTSAgent(\"mcts_checkpoints_696/mcts_checkpoint_44000_explore_random.pth\"), # warm annealed restart\n",
    "MCTSAgent(\"mcts_checkpoints_696/mcts_checkpoint_48000_explore_random.pth\"), # warm annealed restart\n",
    "'''\n",
    "newcomers = [RandomAgent(), # random\n",
    "             RLAgent(\"checkpoints/ppo_checkpoint_50000.pth\"), # ppo model \n",
    "             RLAgent(\"checkpoints/ppo_checkpoint_100000.pth\"), # ppo model\n",
    "             MCTSAgent(\"mcts_checkpoints_696/mcts_checkpoint_100.pth\"), # random MCTS\n",
    "             MCTSAgent(\"mcts_checkpoints_696/mcts_checkpoint_4000.pth\"), # early training\n",
    "             MCTSAgent(\"mcts_checkpoints_696/mcts_checkpoint_8000_v2.pth\"), # increased exploration coefficient\n",
    "             MCTSAgent(\"mcts_checkpoints_696/mcts_checkpoint_12000_noisy_random.pth\"), # random positions\n",
    "             MCTSAgent(\"mcts_checkpoints_696/mcts_checkpoint_16000_noisy_random.pth\"), # random positions\n",
    "             MCTSAgent(\"mcts_checkpoints_696/mcts_checkpoint_20000_noisy_random.pth\"), # random positions\n",
    "             MCTSAgent(\"mcts_checkpoints_696/mcts_checkpoint_24000_noisy_random.pth\"), # random positions\n",
    "             MCTSAgent(\"mcts_checkpoints_696/mcts_checkpoint_28000_noisy_random.pth\"), # random positions\n",
    "             MCTSAgent(\"mcts_checkpoints_696/mcts_checkpoint_32000_noisy_random.pth\"), # ablation: no warm annealed restart\n",
    "             MCTSAgent(\"mcts_checkpoints_696/mcts_checkpoint_36000_noisy_random.pth\"), # ablation: no warm annealed restart\n",
    "             MCTSAgent(\"mcts_checkpoints_696/mcts_checkpoint_40000.pth\"), # ablation: no warm annealed restart\n",
    "             MCTSAgent(\"mcts_checkpoints_696/mcts_checkpoint_36000_more_random.pth\"), # ablation: warm annealed restart, increased random positions\n",
    "             MCTSAgent(\"mcts_checkpoints_696/mcts_checkpoint_40000_more_random.pth\"), # ablation: warm annealed restart, increased random positions\n",
    "             MCTSAgent(\"mcts_checkpoints_696/mcts_checkpoint_44000_more_random.pth\"), # ablation: warm annealed restart, increased random positions\n",
    "             MCTSAgent(\"mcts_checkpoints_696/mcts_checkpoint_48000_more_random.pth\"), # ablation: warm annealed restart, increased random positions\n",
    "            ]\n",
    "old = []"
   ]
  },
  {
   "cell_type": "code",
   "execution_count": null,
   "id": "0e5dfe3e",
   "metadata": {},
   "outputs": [],
   "source": [
    "from eval import tiered_arena\n",
    "import torch.multiprocessing\n",
    "torch.multiprocessing.set_sharing_strategy('file_system')\n",
    "tiered_arena(newcomer_agents=newcomers, established_agents=old, output_csv_dir=\"evaluations/\", n_games_between_each=20)"
   ]
  },
  {
   "cell_type": "code",
   "execution_count": null,
   "id": "9de244bc",
   "metadata": {},
   "outputs": [],
   "source": []
  }
 ],
 "metadata": {
  "kernelspec": {
   "display_name": "cc",
   "language": "python",
   "name": "cc"
  },
  "language_info": {
   "codemirror_mode": {
    "name": "ipython",
    "version": 3
   },
   "file_extension": ".py",
   "mimetype": "text/x-python",
   "name": "python",
   "nbconvert_exporter": "python",
   "pygments_lexer": "ipython3",
   "version": "3.10.14"
  }
 },
 "nbformat": 4,
 "nbformat_minor": 5
}

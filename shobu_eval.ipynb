{
 "cells": [
  {
   "cell_type": "code",
   "execution_count": null,
   "id": "ed791264",
   "metadata": {},
   "outputs": [],
   "source": [
    "%load_ext autoreload\n",
    "%autoreload 2"
   ]
  },
  {
   "cell_type": "code",
   "execution_count": null,
   "id": "65580479",
   "metadata": {},
   "outputs": [],
   "source": [
    "from shobu_rl import Shobu_RL\n",
    "from rl_utils import ReplayMemory\n",
    "import numpy as np\n",
    "import torch\n",
    "import os"
   ]
  },
  {
   "cell_type": "code",
   "execution_count": null,
   "id": "35a3723f",
   "metadata": {},
   "outputs": [],
   "source": [
    "device = torch.device(\n",
    "    \"cuda\" if torch.cuda.is_available() else\n",
    "    \"cpu\"\n",
    ")\n",
    "os.environ['CUDA_LAUNCH_BLOCKING'] = \"1\"\n",
    "torch.autograd.set_detect_anomaly(True)"
   ]
  },
  {
   "cell_type": "code",
   "execution_count": null,
   "id": "368b8117",
   "metadata": {},
   "outputs": [],
   "source": [
    "from models import Shobu_PPO\n",
    "model = Shobu_PPO()\n",
    "model.to(device)"
   ]
  },
  {
   "cell_type": "code",
   "execution_count": null,
   "id": "1f7863b2",
   "metadata": {},
   "outputs": [],
   "source": [
    "# Load the saved weights\n",
    "model.load_state_dict(torch.load(\"model_weights/ppo_checkpoint_21000.pth\"))\n",
    "\n",
    "# Set to evaluation mode (optional, for inference)\n",
    "model.eval()"
   ]
  },
  {
   "cell_type": "code",
   "execution_count": null,
   "id": "719ed5fc",
   "metadata": {},
   "outputs": [],
   "source": [
    "game = Shobu_RL(model)\n",
    "\n",
    "# play game\n",
    "memory = ReplayMemory(capacity=10000)\n",
    "memory = game.model_play_game(memory, train=False)"
   ]
  },
  {
   "cell_type": "code",
   "execution_count": null,
   "id": "a25fe6a2",
   "metadata": {},
   "outputs": [],
   "source": []
  }
 ],
 "metadata": {
  "kernelspec": {
   "display_name": "cc",
   "language": "python",
   "name": "cc"
  },
  "language_info": {
   "codemirror_mode": {
    "name": "ipython",
    "version": 3
   },
   "file_extension": ".py",
   "mimetype": "text/x-python",
   "name": "python",
   "nbconvert_exporter": "python",
   "pygments_lexer": "ipython3",
   "version": "3.10.14"
  }
 },
 "nbformat": 4,
 "nbformat_minor": 5
}

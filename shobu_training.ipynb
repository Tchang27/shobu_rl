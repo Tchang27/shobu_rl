{
 "cells": [
  {
   "cell_type": "code",
   "execution_count": null,
   "id": "ed791264",
   "metadata": {},
   "outputs": [],
   "source": [
    "%load_ext autoreload\n",
    "%autoreload 2"
   ]
  },
  {
   "cell_type": "code",
   "execution_count": null,
   "id": "65580479",
   "metadata": {},
   "outputs": [],
   "source": [
    "from shobu_rl import Shobu_RL\n",
    "import numpy as np\n",
    "import torch\n",
    "import os"
   ]
  },
  {
   "cell_type": "code",
   "execution_count": null,
   "id": "35a3723f",
   "metadata": {},
   "outputs": [],
   "source": [
    "device = torch.device(\n",
    "    \"cuda\" if torch.cuda.is_available() else\n",
    "    \"cpu\"\n",
    ")\n",
    "os.environ['CUDA_LAUNCH_BLOCKING'] = \"1\"\n",
    "torch.autograd.set_detect_anomaly(True)"
   ]
  },
  {
   "cell_type": "code",
   "execution_count": null,
   "id": "368b8117",
   "metadata": {},
   "outputs": [],
   "source": [
    "from models import Shobu_PPO\n",
    "model = Shobu_PPO()\n",
    "model.to(device)"
   ]
  },
  {
   "cell_type": "code",
   "execution_count": null,
   "id": "1f7863b2",
   "metadata": {},
   "outputs": [],
   "source": [
    "# critic, actor, and backbone\n",
    "critic_params = list(model.critic.parameters())\n",
    "backbone_params = list(model.backbone.parameters())\n",
    "actor_params = [\n",
    "    p for p in model.parameters() \n",
    "    if (not any(p is cp for cp in critic_params)) and (not any(p is bp for bp in backbone_params))\n",
    "]  # All other params (policy heads)\n",
    "\n",
    "optimizer = torch.optim.AdamW([\n",
    "    {'params': actor_params, 'lr': 3e-4},\n",
    "    {'params': backbone_params, 'lr': 3e-4},\n",
    "    {'params': critic_params, 'lr': 1e-4}\n",
    "], amsgrad=True, weight_decay=1e-3)\n",
    "scheduler = torch.optim.lr_scheduler.StepLR(optimizer, step_size=1000, gamma=0.5)"
   ]
  },
  {
   "cell_type": "code",
   "execution_count": null,
   "id": "719ed5fc",
   "metadata": {},
   "outputs": [],
   "source": [
    "shobu_rl = Shobu_RL(model)"
   ]
  },
  {
   "cell_type": "code",
   "execution_count": null,
   "id": "7410b70a",
   "metadata": {
    "scrolled": false
   },
   "outputs": [],
   "source": [
    "shobu_rl.train(optimizer, scheduler, sparse=False)"
   ]
  },
  {
   "cell_type": "code",
   "execution_count": null,
   "id": "a25fe6a2",
   "metadata": {},
   "outputs": [],
   "source": []
  }
 ],
 "metadata": {
  "kernelspec": {
   "display_name": "cc",
   "language": "python",
   "name": "cc"
  },
  "language_info": {
   "codemirror_mode": {
    "name": "ipython",
    "version": 3
   },
   "file_extension": ".py",
   "mimetype": "text/x-python",
   "name": "python",
   "nbconvert_exporter": "python",
   "pygments_lexer": "ipython3",
   "version": "3.10.14"
  }
 },
 "nbformat": 4,
 "nbformat_minor": 5
}
